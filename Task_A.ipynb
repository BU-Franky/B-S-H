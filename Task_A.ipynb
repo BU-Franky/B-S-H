{
 "cells": [
  {
   "cell_type": "markdown",
   "id": "1c4f288b",
   "metadata": {},
   "source": [
    "## Preprocessing"
   ]
  },
  {
   "cell_type": "code",
   "execution_count": 1,
   "id": "c6815550",
   "metadata": {},
   "outputs": [],
   "source": [
    "# !pip install pandas openpyxl\n",
    "# ! pip install xlrd"
   ]
  },
  {
   "cell_type": "code",
   "execution_count": 2,
   "id": "7d1fd9b7",
   "metadata": {},
   "outputs": [],
   "source": [
    "import pandas as pd\n",
    "pd.options.mode.chained_assignment = None\n",
    "import datetime\n",
    "import numpy as np\n",
    "import seaborn as sns\n",
    "import statistics\n",
    "import matplotlib.pyplot as plt"
   ]
  },
  {
   "cell_type": "code",
   "execution_count": 3,
   "id": "33f1ef74",
   "metadata": {},
   "outputs": [
    {
     "name": "stdout",
     "output_type": "stream",
     "text": [
      "西门子客户购买品类有:  ['洗碗机' '洗衣机' '灶具' '冰箱' '蒸/烤箱' '烘干机' '吸油烟机']\n",
      "西门子客户地区有:  ['江苏' '广东' '河北' '广西' '河南' '江西' '新疆' '山西']\n"
     ]
    }
   ],
   "source": [
    "# read xls file \n",
    "xls = pd.ExcelFile(r\"数据分析数据源_脱敏_20230324.xls\")\n",
    "sheetxls = xls.parse(0)\n",
    "sheetxls_price = xls.parse(1)\n",
    "\n",
    "# extract Siemens data\n",
    "siemens_dat = sheetxls.loc[sheetxls['brand'] == \"西门子\"]\n",
    "\n",
    "# sort by user_id & installation_date\n",
    "siemens_dat = siemens_dat.sort_values(by = ['user_id', 'installation_date'])\n",
    "siemens_dat = siemens_dat.drop('brand', axis = 1)\n",
    "\n",
    "print('西门子客户购买品类有: ', siemens_dat['prod_group'].unique())\n",
    "print('西门子客户地区有: ', siemens_dat['province'].unique())"
   ]
  },
  {
   "cell_type": "code",
   "execution_count": 4,
   "id": "81923815",
   "metadata": {},
   "outputs": [],
   "source": [
    "# define a dictionary for following steps\n",
    "user_id = list(siemens_dat['user_id'].unique())\n",
    "siemens_user_dat = {}\n",
    "for user in user_id: \n",
    "    siemens_user_dat[user] = siemens_dat.loc[siemens_dat['user_id'] == user]\n",
    "del user\n",
    "\n",
    "# calculate time difference from first purchase\n",
    "for user in user_id: \n",
    "    time_stamp_list = list(siemens_user_dat[user]['installation_date'])\n",
    "    time_lag = []\n",
    "    for i in range(len(time_stamp_list)):\n",
    "        time_lag.append(time_stamp_list[i] - time_stamp_list[0])\n",
    "    siemens_user_dat[user]['time_lag'] = time_lag\n",
    "del time_stamp_list, time_lag\n",
    "\n",
    "# extract 1 yr return purchase data for each customer\n",
    "siemens_user_dat_1yr = {}\n",
    "time_judge = datetime.timedelta(days = 360)\n",
    "for user in user_id: \n",
    "    df = siemens_user_dat[user]\n",
    "    siemens_user_dat_1yr[user] = df.loc[df['time_lag'] < time_judge] \n",
    "del df"
   ]
  },
  {
   "cell_type": "markdown",
   "id": "16a816e7",
   "metadata": {},
   "source": [
    "## 1 西门子客户首购品类关联性分析"
   ]
  },
  {
   "cell_type": "markdown",
   "id": "51898078",
   "metadata": {},
   "source": [
    "### 1.1 客户首购产品分布"
   ]
  },
  {
   "cell_type": "code",
   "execution_count": 5,
   "id": "1dcb8e2d",
   "metadata": {},
   "outputs": [],
   "source": [
    "col_names = list(siemens_user_dat_1yr[0].columns)\n",
    "siemens_1st = pd.DataFrame(columns = col_names)\n",
    "for i in range(len(user_id)): \n",
    "    user = user_id[i]\n",
    "    siemens_1st.loc[i] = list(siemens_user_dat_1yr[user].iloc[0])\n",
    "del user, col_names"
   ]
  },
  {
   "cell_type": "markdown",
   "id": "98a752af",
   "metadata": {},
   "source": [
    "**以下为西门子顾客首购产品分布:**"
   ]
  },
  {
   "cell_type": "code",
   "execution_count": 6,
   "id": "84f36faf",
   "metadata": {},
   "outputs": [
    {
     "data": {
      "text/plain": [
       "洗衣机     123\n",
       "冰箱       76\n",
       "洗碗机      31\n",
       "灶具       26\n",
       "吸油烟机     18\n",
       "蒸/烤箱     11\n",
       "烘干机       6\n",
       "Name: prod_group, dtype: int64"
      ]
     },
     "execution_count": 6,
     "metadata": {},
     "output_type": "execute_result"
    }
   ],
   "source": [
    "siemens_1st['prod_group'].value_counts()"
   ]
  },
  {
   "cell_type": "markdown",
   "id": "196a614a",
   "metadata": {},
   "source": [
    "**该数据中, 西门子共有291位顾客. 其中, 接近一半西门子顾客首购的产品为洗衣机(42.2%), 冰箱(26.1%)其次. 此处需声明, 关于吸油烟机, 蒸/烤箱, 烘干机后续的关联购买分析因样本数量过少可能缺乏代表性.** "
   ]
  },
  {
   "cell_type": "markdown",
   "id": "281dd178",
   "metadata": {},
   "source": [
    "### 1.2 客户首购产品关联购买率"
   ]
  },
  {
   "cell_type": "code",
   "execution_count": 7,
   "id": "b0950141",
   "metadata": {},
   "outputs": [],
   "source": [
    "indexes = siemens_dat['prod_group'].unique()\n",
    "col_names = np.concatenate((['首购频次'], ['关联购买频次'], indexes))\n",
    "prod_related_purchase = pd.DataFrame(0, index=indexes, columns=col_names)\n",
    "del indexes, col_names\n",
    "\n",
    "# way to extract values \n",
    "# prod_related_purchase.loc[['冰箱']]['冰箱']\n",
    "for user in siemens_user_dat_1yr.keys(): \n",
    "    df = siemens_user_dat_1yr[user]\n",
    "    rows = df.shape[0]\n",
    "    row_loc = df.iloc[0]['prod_group']\n",
    "    if rows>1:\n",
    "        prod_related_purchase.loc[[row_loc], '关联购买频次'] += 1\n",
    "    for i in range(rows):\n",
    "        if i == 0:\n",
    "            prod_related_purchase.loc[[row_loc], '首购频次'] += 1\n",
    "        else: \n",
    "            prod_related_purchase.loc[[row_loc], df.iloc[i]['prod_group']] += 1"
   ]
  },
  {
   "cell_type": "markdown",
   "id": "46450fae",
   "metadata": {},
   "source": [
    "**以下表格为西门子顾客各类产品首购客户频次, 首购后360天内关联购买客户频次, 以及由此计算出的关联购买率**"
   ]
  },
  {
   "cell_type": "code",
   "execution_count": 8,
   "id": "4135a052",
   "metadata": {},
   "outputs": [
    {
     "data": {
      "text/html": [
       "<div>\n",
       "<style scoped>\n",
       "    .dataframe tbody tr th:only-of-type {\n",
       "        vertical-align: middle;\n",
       "    }\n",
       "\n",
       "    .dataframe tbody tr th {\n",
       "        vertical-align: top;\n",
       "    }\n",
       "\n",
       "    .dataframe thead th {\n",
       "        text-align: right;\n",
       "    }\n",
       "</style>\n",
       "<table border=\"1\" class=\"dataframe\">\n",
       "  <thead>\n",
       "    <tr style=\"text-align: right;\">\n",
       "      <th></th>\n",
       "      <th>首购频次</th>\n",
       "      <th>关联购买频次</th>\n",
       "      <th>洗碗机</th>\n",
       "      <th>洗衣机</th>\n",
       "      <th>灶具</th>\n",
       "      <th>冰箱</th>\n",
       "      <th>蒸/烤箱</th>\n",
       "      <th>烘干机</th>\n",
       "      <th>吸油烟机</th>\n",
       "      <th>关联购买率</th>\n",
       "    </tr>\n",
       "  </thead>\n",
       "  <tbody>\n",
       "    <tr>\n",
       "      <th>洗碗机</th>\n",
       "      <td>31</td>\n",
       "      <td>13</td>\n",
       "      <td>4</td>\n",
       "      <td>16</td>\n",
       "      <td>2</td>\n",
       "      <td>6</td>\n",
       "      <td>0</td>\n",
       "      <td>0</td>\n",
       "      <td>2</td>\n",
       "      <td>0.4194</td>\n",
       "    </tr>\n",
       "    <tr>\n",
       "      <th>洗衣机</th>\n",
       "      <td>123</td>\n",
       "      <td>70</td>\n",
       "      <td>20</td>\n",
       "      <td>60</td>\n",
       "      <td>13</td>\n",
       "      <td>49</td>\n",
       "      <td>4</td>\n",
       "      <td>7</td>\n",
       "      <td>13</td>\n",
       "      <td>0.5691</td>\n",
       "    </tr>\n",
       "    <tr>\n",
       "      <th>灶具</th>\n",
       "      <td>26</td>\n",
       "      <td>17</td>\n",
       "      <td>2</td>\n",
       "      <td>16</td>\n",
       "      <td>0</td>\n",
       "      <td>7</td>\n",
       "      <td>1</td>\n",
       "      <td>3</td>\n",
       "      <td>4</td>\n",
       "      <td>0.6538</td>\n",
       "    </tr>\n",
       "    <tr>\n",
       "      <th>冰箱</th>\n",
       "      <td>76</td>\n",
       "      <td>48</td>\n",
       "      <td>14</td>\n",
       "      <td>48</td>\n",
       "      <td>6</td>\n",
       "      <td>25</td>\n",
       "      <td>4</td>\n",
       "      <td>3</td>\n",
       "      <td>5</td>\n",
       "      <td>0.6316</td>\n",
       "    </tr>\n",
       "    <tr>\n",
       "      <th>蒸/烤箱</th>\n",
       "      <td>11</td>\n",
       "      <td>8</td>\n",
       "      <td>5</td>\n",
       "      <td>15</td>\n",
       "      <td>1</td>\n",
       "      <td>3</td>\n",
       "      <td>0</td>\n",
       "      <td>1</td>\n",
       "      <td>1</td>\n",
       "      <td>0.7273</td>\n",
       "    </tr>\n",
       "    <tr>\n",
       "      <th>烘干机</th>\n",
       "      <td>6</td>\n",
       "      <td>3</td>\n",
       "      <td>0</td>\n",
       "      <td>1</td>\n",
       "      <td>0</td>\n",
       "      <td>1</td>\n",
       "      <td>0</td>\n",
       "      <td>1</td>\n",
       "      <td>1</td>\n",
       "      <td>0.5000</td>\n",
       "    </tr>\n",
       "    <tr>\n",
       "      <th>吸油烟机</th>\n",
       "      <td>18</td>\n",
       "      <td>13</td>\n",
       "      <td>4</td>\n",
       "      <td>8</td>\n",
       "      <td>2</td>\n",
       "      <td>8</td>\n",
       "      <td>1</td>\n",
       "      <td>2</td>\n",
       "      <td>1</td>\n",
       "      <td>0.7222</td>\n",
       "    </tr>\n",
       "  </tbody>\n",
       "</table>\n",
       "</div>"
      ],
      "text/plain": [
       "      首购频次  关联购买频次  洗碗机  洗衣机  灶具  冰箱  蒸/烤箱  烘干机  吸油烟机   关联购买率\n",
       "洗碗机     31      13    4   16   2   6     0    0     2  0.4194\n",
       "洗衣机    123      70   20   60  13  49     4    7    13  0.5691\n",
       "灶具      26      17    2   16   0   7     1    3     4  0.6538\n",
       "冰箱      76      48   14   48   6  25     4    3     5  0.6316\n",
       "蒸/烤箱    11       8    5   15   1   3     0    1     1  0.7273\n",
       "烘干机      6       3    0    1   0   1     0    1     1  0.5000\n",
       "吸油烟机    18      13    4    8   2   8     1    2     1  0.7222"
      ]
     },
     "execution_count": 8,
     "metadata": {},
     "output_type": "execute_result"
    }
   ],
   "source": [
    "prod_related_purchase['关联购买率'] = round(prod_related_purchase['关联购买频次']/prod_related_purchase['首购频次'], 4)\n",
    "prod_related_purchase"
   ]
  },
  {
   "cell_type": "markdown",
   "id": "140b7e10",
   "metadata": {},
   "source": [
    "**该曲线图为关联购买率分布图**"
   ]
  },
  {
   "cell_type": "code",
   "execution_count": 9,
   "id": "eef11828",
   "metadata": {},
   "outputs": [
    {
     "data": {
      "text/plain": [
       "<AxesSubplot:ylabel='Density'>"
      ]
     },
     "execution_count": 9,
     "metadata": {},
     "output_type": "execute_result"
    },
    {
     "data": {
      "image/png": "[encoded data removed]",
      "text/plain": [
       "<Figure size 432x288 with 1 Axes>"
      ]
     },
     "metadata": {
      "needs_background": "light"
     },
     "output_type": "display_data"
    }
   ],
   "source": [
    "sns.set_style('whitegrid')\n",
    "sns.kdeplot(np.array(prod_related_purchase['关联购买率']), bw_method=0.5)"
   ]
  },
  {
   "cell_type": "code",
   "execution_count": 10,
   "id": "ce742f88",
   "metadata": {},
   "outputs": [],
   "source": [
    "# 调出首购记录以及关联购买记录\n",
    "def print_history(prod_group): \n",
    "    indicator = 0\n",
    "    for user in siemens_user_dat_1yr.keys(): \n",
    "        df = siemens_user_dat_1yr[user]\n",
    "        row_loc = df.iloc[0]['prod_group']\n",
    "        if row_loc == prod_group:\n",
    "            print(df)\n",
    "            indicator += 1\n",
    "    if indicator == 0:\n",
    "        print('该产品不存在')\n",
    "\n",
    "# exmaple to use the function\n",
    "# print_history('烘干机')"
   ]
  },
  {
   "cell_type": "markdown",
   "id": "371599c6",
   "metadata": {},
   "source": [
    "### 1.3 客户首购产品关联购买分析结论"
   ]
  },
  {
   "cell_type": "markdown",
   "id": "cff1f975",
   "metadata": {},
   "source": [
    "**从首购产品品类的角度, 72%的首购蒸/烤箱或者吸油烟机的顾客在后续360天内都进行了关联购买. 首购洗衣机, 炊具, 冰箱的顾客关联购买率也在60%左右. 然而首购洗碗机的顾客仅有40%左右在360天内进行了关联购买. 从七类产品的关联购买率的分布的角度来看, 近似服从均值0.65的正态分布. 也由此可推断:**\n",
    "- 高关联购买率产品品类: 蒸/烤箱, 吸油烟机; \n",
    "- 一般关联购买率产品品类: 洗衣机, 灶具, 冰箱; \n",
    "- 低关联购买率产品品类: 洗碗机, 烘干机\n",
    "\n",
    "**从关联购买产品品类的角度, 以下几组关联购买特征较为明显:**\n",
    "- 顾客首购洗衣机, 灶具, 冰箱, 蒸/烤箱, 吸油烟机后, 如若发生关联购买, 关联购买产品中几乎一定有洗衣机;\n",
    "- 顾客首购洗衣机, 冰箱, 蒸/烤箱后, 如若发生关联购买, 有超过50%的概率会购买冰箱;\n",
    "- 然而, 无论顾客首购产品品类, 关联购买灶具, 蒸/烤箱, 烘干机, 吸油烟机的可能性都很小; "
   ]
  },
  {
   "cell_type": "markdown",
   "id": "0c693298",
   "metadata": {},
   "source": [
    "## 2 西门子客户同品类复购情况以及复购间隔分析"
   ]
  },
  {
   "cell_type": "markdown",
   "id": "bdc4fd3d",
   "metadata": {},
   "source": [
    "### 2.1 西门子客户同品类复购情况"
   ]
  },
  {
   "cell_type": "code",
   "execution_count": 11,
   "id": "e637e93b",
   "metadata": {},
   "outputs": [],
   "source": [
    "# build return purchase dictionary\n",
    "products = siemens_dat['prod_group'].unique()\n",
    "return_purchase_dict = {}\n",
    "for prod in products: \n",
    "    temp_dict = {}\n",
    "    for user in siemens_user_dat.keys():\n",
    "        # extract purchase records for the product and customer\n",
    "        user_df = siemens_user_dat[user]\n",
    "        temp_df = user_df.loc[user_df['prod_group'] == prod]\n",
    "        if not temp_df.empty:\n",
    "            temp_df = temp_df[['user_id', 'vib', 'prod_group', 'province', 'installation_date']]\n",
    "            temp_dict[user] = temp_df\n",
    "    return_purchase_dict[prod] = temp_dict\n",
    "\n",
    "del temp_dict, user_df, temp_df\n",
    "\n",
    "for prod in return_purchase_dict.keys():\n",
    "    prod_dict = return_purchase_dict[prod]\n",
    "    for user in prod_dict.keys():\n",
    "        user_df = prod_dict[user]\n",
    "        time_stamp_list = list(user_df['installation_date'])\n",
    "        time_lag = []\n",
    "        for i in range(len(time_stamp_list)):\n",
    "            if i == 0:\n",
    "                time_lag.append(time_stamp_list[i] - time_stamp_list[0])\n",
    "            else:\n",
    "                time_lag.append(time_stamp_list[i] - time_stamp_list[i-1])\n",
    "        user_df['time_lag'] = time_lag\n",
    "        # filter < 360\n",
    "        time_1 = datetime.timedelta(days = 360)\n",
    "        time_2 = datetime.timedelta(days = 0)\n",
    "        prod_dict[user] = user_df.loc[(user_df['time_lag'] > time_1) | (user_df['time_lag'] == time_2)] \n",
    "        prod_dict[user]['time_lag'] = prod_dict[user]['time_lag'].dt.days\n",
    "    return_purchase_dict[prod] = prod_dict\n",
    "del prod_dict, user_df, time_stamp_list, time_lag"
   ]
  },
  {
   "cell_type": "code",
   "execution_count": 12,
   "id": "7b4fbdbc",
   "metadata": {},
   "outputs": [],
   "source": [
    "col_names = np.array(['购买顾客', '复购顾客', '复购总量'])\n",
    "indexes = siemens_dat['prod_group'].unique()\n",
    "return_summary = pd.DataFrame(0, index=indexes, columns=col_names)\n",
    "del col_names\n",
    "\n",
    "for prod in return_purchase_dict.keys():\n",
    "    for user in return_purchase_dict[prod].keys():\n",
    "        user_df = return_purchase_dict[prod][user]\n",
    "        return_summary.loc[prod]['购买顾客'] += 1\n",
    "        rows = user_df.shape[0]\n",
    "        if rows > 1:\n",
    "            return_summary.loc[prod]['复购顾客'] += 1\n",
    "        return_summary.loc[prod]['复购总量'] += (rows - 1)\n",
    "del user_df, rows\n",
    "\n",
    "return_summary['复购率'] = round(return_summary['复购顾客']/return_summary['购买顾客'], 3)\n",
    "return_summary['复购率'] = (100.*return_summary['复购率']).round(1).astype(str) + '%'\n",
    "return_summary['平均复购量'] = round(return_summary['复购总量']/return_summary['复购顾客'], 2)"
   ]
  },
  {
   "cell_type": "code",
   "execution_count": 13,
   "id": "54f3a74f",
   "metadata": {},
   "outputs": [
    {
     "data": {
      "text/html": [
       "<div>\n",
       "<style scoped>\n",
       "    .dataframe tbody tr th:only-of-type {\n",
       "        vertical-align: middle;\n",
       "    }\n",
       "\n",
       "    .dataframe tbody tr th {\n",
       "        vertical-align: top;\n",
       "    }\n",
       "\n",
       "    .dataframe thead th {\n",
       "        text-align: right;\n",
       "    }\n",
       "</style>\n",
       "<table border=\"1\" class=\"dataframe\">\n",
       "  <thead>\n",
       "    <tr style=\"text-align: right;\">\n",
       "      <th></th>\n",
       "      <th>购买顾客</th>\n",
       "      <th>复购顾客</th>\n",
       "      <th>复购总量</th>\n",
       "      <th>复购率</th>\n",
       "      <th>平均复购量</th>\n",
       "    </tr>\n",
       "  </thead>\n",
       "  <tbody>\n",
       "    <tr>\n",
       "      <th>洗碗机</th>\n",
       "      <td>159</td>\n",
       "      <td>65</td>\n",
       "      <td>83</td>\n",
       "      <td>40.9%</td>\n",
       "      <td>1.28</td>\n",
       "    </tr>\n",
       "    <tr>\n",
       "      <th>洗衣机</th>\n",
       "      <td>251</td>\n",
       "      <td>162</td>\n",
       "      <td>245</td>\n",
       "      <td>64.5%</td>\n",
       "      <td>1.51</td>\n",
       "    </tr>\n",
       "    <tr>\n",
       "      <th>灶具</th>\n",
       "      <td>120</td>\n",
       "      <td>26</td>\n",
       "      <td>27</td>\n",
       "      <td>21.7%</td>\n",
       "      <td>1.04</td>\n",
       "    </tr>\n",
       "    <tr>\n",
       "      <th>冰箱</th>\n",
       "      <td>220</td>\n",
       "      <td>136</td>\n",
       "      <td>204</td>\n",
       "      <td>61.8%</td>\n",
       "      <td>1.50</td>\n",
       "    </tr>\n",
       "    <tr>\n",
       "      <th>蒸/烤箱</th>\n",
       "      <td>66</td>\n",
       "      <td>9</td>\n",
       "      <td>9</td>\n",
       "      <td>13.6%</td>\n",
       "      <td>1.00</td>\n",
       "    </tr>\n",
       "    <tr>\n",
       "      <th>烘干机</th>\n",
       "      <td>47</td>\n",
       "      <td>7</td>\n",
       "      <td>8</td>\n",
       "      <td>14.9%</td>\n",
       "      <td>1.14</td>\n",
       "    </tr>\n",
       "    <tr>\n",
       "      <th>吸油烟机</th>\n",
       "      <td>103</td>\n",
       "      <td>25</td>\n",
       "      <td>28</td>\n",
       "      <td>24.3%</td>\n",
       "      <td>1.12</td>\n",
       "    </tr>\n",
       "  </tbody>\n",
       "</table>\n",
       "</div>"
      ],
      "text/plain": [
       "      购买顾客  复购顾客  复购总量    复购率  平均复购量\n",
       "洗碗机    159    65    83  40.9%   1.28\n",
       "洗衣机    251   162   245  64.5%   1.51\n",
       "灶具     120    26    27  21.7%   1.04\n",
       "冰箱     220   136   204  61.8%   1.50\n",
       "蒸/烤箱    66     9     9  13.6%   1.00\n",
       "烘干机     47     7     8  14.9%   1.14\n",
       "吸油烟机   103    25    28  24.3%   1.12"
      ]
     },
     "execution_count": 13,
     "metadata": {},
     "output_type": "execute_result"
    }
   ],
   "source": [
    "return_summary"
   ]
  },
  {
   "cell_type": "markdown",
   "id": "4b875d58",
   "metadata": {},
   "source": [
    "**根据以上表格中的复购率和平均复购量, 可以对产品进行以下分类:**\n",
    "- 复购表现优异产品品类(复购率40%+, 平均复购量1.5+): 洗碗机, 洗衣机, 冰箱;\n",
    "- 复购表现一般产品品类(复购率20%+): 灶具, 吸油烟机;\n",
    "- 复购表现较差产品品类(复购率<20%): 蒸/烤箱, 烘干机;"
   ]
  },
  {
   "cell_type": "markdown",
   "id": "0428a90b",
   "metadata": {},
   "source": [
    "### 2.2 西门子客户同品类复购间隔分析"
   ]
  },
  {
   "cell_type": "code",
   "execution_count": 14,
   "id": "bf022832",
   "metadata": {},
   "outputs": [],
   "source": [
    "return_purchase_inr = {}\n",
    "for prod in return_purchase_dict.keys():\n",
    "    temp_list = []\n",
    "    for user in return_purchase_dict[prod].keys():\n",
    "        uesr_df = return_purchase_dict[prod][user]\n",
    "        for lag in list(uesr_df['time_lag']):\n",
    "            if not lag == 0:\n",
    "                temp_list.append(lag)\n",
    "    return_purchase_inr[prod] = temp_list\n",
    "\n",
    "def Average(lst):\n",
    "    return sum(lst) / len(lst)"
   ]
  },
  {
   "cell_type": "code",
   "execution_count": 15,
   "id": "b40ff7d0",
   "metadata": {},
   "outputs": [
    {
     "data": {
      "text/html": [
       "<div>\n",
       "<style scoped>\n",
       "    .dataframe tbody tr th:only-of-type {\n",
       "        vertical-align: middle;\n",
       "    }\n",
       "\n",
       "    .dataframe tbody tr th {\n",
       "        vertical-align: top;\n",
       "    }\n",
       "\n",
       "    .dataframe thead th {\n",
       "        text-align: right;\n",
       "    }\n",
       "</style>\n",
       "<table border=\"1\" class=\"dataframe\">\n",
       "  <thead>\n",
       "    <tr style=\"text-align: right;\">\n",
       "      <th></th>\n",
       "      <th>mean</th>\n",
       "      <th>median</th>\n",
       "      <th>std</th>\n",
       "      <th>25%</th>\n",
       "      <th>75%</th>\n",
       "    </tr>\n",
       "  </thead>\n",
       "  <tbody>\n",
       "    <tr>\n",
       "      <th>洗碗机</th>\n",
       "      <td>829.58</td>\n",
       "      <td>750.0</td>\n",
       "      <td>359.368962</td>\n",
       "      <td>518.50</td>\n",
       "      <td>1073.00</td>\n",
       "    </tr>\n",
       "    <tr>\n",
       "      <th>洗衣机</th>\n",
       "      <td>669.32</td>\n",
       "      <td>595.0</td>\n",
       "      <td>286.103289</td>\n",
       "      <td>447.00</td>\n",
       "      <td>785.00</td>\n",
       "    </tr>\n",
       "    <tr>\n",
       "      <th>灶具</th>\n",
       "      <td>948.19</td>\n",
       "      <td>856.0</td>\n",
       "      <td>367.840247</td>\n",
       "      <td>728.50</td>\n",
       "      <td>1119.00</td>\n",
       "    </tr>\n",
       "    <tr>\n",
       "      <th>冰箱</th>\n",
       "      <td>709.87</td>\n",
       "      <td>614.0</td>\n",
       "      <td>337.534549</td>\n",
       "      <td>451.50</td>\n",
       "      <td>831.50</td>\n",
       "    </tr>\n",
       "    <tr>\n",
       "      <th>蒸/烤箱</th>\n",
       "      <td>1068.67</td>\n",
       "      <td>1138.0</td>\n",
       "      <td>446.519130</td>\n",
       "      <td>689.00</td>\n",
       "      <td>1335.00</td>\n",
       "    </tr>\n",
       "    <tr>\n",
       "      <th>烘干机</th>\n",
       "      <td>1056.25</td>\n",
       "      <td>1033.5</td>\n",
       "      <td>383.930251</td>\n",
       "      <td>784.00</td>\n",
       "      <td>1379.25</td>\n",
       "    </tr>\n",
       "    <tr>\n",
       "      <th>吸油烟机</th>\n",
       "      <td>949.46</td>\n",
       "      <td>828.0</td>\n",
       "      <td>437.004779</td>\n",
       "      <td>597.25</td>\n",
       "      <td>1186.75</td>\n",
       "    </tr>\n",
       "  </tbody>\n",
       "</table>\n",
       "</div>"
      ],
      "text/plain": [
       "         mean  median         std     25%      75%\n",
       "洗碗机    829.58   750.0  359.368962  518.50  1073.00\n",
       "洗衣机    669.32   595.0  286.103289  447.00   785.00\n",
       "灶具     948.19   856.0  367.840247  728.50  1119.00\n",
       "冰箱     709.87   614.0  337.534549  451.50   831.50\n",
       "蒸/烤箱  1068.67  1138.0  446.519130  689.00  1335.00\n",
       "烘干机   1056.25  1033.5  383.930251  784.00  1379.25\n",
       "吸油烟机   949.46   828.0  437.004779  597.25  1186.75"
      ]
     },
     "execution_count": 15,
     "metadata": {},
     "output_type": "execute_result"
    }
   ],
   "source": [
    "col_names = np.array(['mean', 'median', 'std', '25%', '75%'])\n",
    "return_inr_summary = pd.DataFrame(0, index=indexes, columns=col_names)\n",
    "for prod in return_purchase_inr.keys():\n",
    "    return_inr_summary.loc[prod,'mean'] = round(Average(return_purchase_inr[prod]), 2)\n",
    "    return_inr_summary.loc[prod,'median'] = statistics.median(return_purchase_inr[prod])\n",
    "    return_inr_summary.loc[prod,'std'] = np.std(return_purchase_inr[prod])\n",
    "    return_inr_summary.loc[prod,'25%'] = pd.Series(return_purchase_inr[prod]).describe()[4]\n",
    "    return_inr_summary.loc[prod,'75%'] = pd.Series(return_purchase_inr[prod]).describe()[6]\n",
    "    \n",
    "return_inr_summary"
   ]
  },
  {
   "cell_type": "code",
   "execution_count": 16,
   "id": "6eb6761a",
   "metadata": {},
   "outputs": [
    {
     "data": {
      "text/plain": [
       "count     204.000000\n",
       "mean      709.872549\n",
       "std       338.364894\n",
       "min       364.000000\n",
       "25%       451.500000\n",
       "50%       614.000000\n",
       "75%       831.500000\n",
       "max      2101.000000\n",
       "dtype: float64"
      ]
     },
     "execution_count": 16,
     "metadata": {},
     "output_type": "execute_result"
    }
   ],
   "source": [
    "pd.Series(return_purchase_inr['冰箱']).describe()"
   ]
  },
  {
   "cell_type": "markdown",
   "id": "00b76468",
   "metadata": {},
   "source": [
    "**检查标准差大的两个品类的复购间隔分布**"
   ]
  },
  {
   "cell_type": "code",
   "execution_count": 17,
   "id": "d463ca0b",
   "metadata": {},
   "outputs": [
    {
     "data": {
      "text/plain": [
       "[Text(0.5, 1.0, 'extractor hood')]"
      ]
     },
     "execution_count": 17,
     "metadata": {},
     "output_type": "execute_result"
    },
    {
     "data": {
      "image/png": "[encoded data removed]",
      "text/plain": [
       "<Figure size 432x288 with 1 Axes>"
      ]
     },
     "metadata": {},
     "output_type": "display_data"
    }
   ],
   "source": [
    "sns.set_style('whitegrid')\n",
    "sns.kdeplot(np.array(return_purchase_inr['吸油烟机']), bw_method=0.5).set(title = 'extractor hood')"
   ]
  },
  {
   "cell_type": "code",
   "execution_count": 18,
   "id": "f1ec0da6",
   "metadata": {},
   "outputs": [
    {
     "data": {
      "text/plain": [
       "[Text(0.5, 1.0, 'Steam Oven')]"
      ]
     },
     "execution_count": 18,
     "metadata": {},
     "output_type": "execute_result"
    },
    {
     "data": {
      "image/png": "[encoded data removed]",
      "text/plain": [
       "<Figure size 432x288 with 1 Axes>"
      ]
     },
     "metadata": {},
     "output_type": "display_data"
    }
   ],
   "source": [
    "sns.set_style('whitegrid')\n",
    "sns.kdeplot(np.array(return_purchase_inr['蒸/烤箱']), bw_method=0.5).set(title = 'Steam Oven')"
   ]
  },
  {
   "cell_type": "markdown",
   "id": "9ae24595",
   "metadata": {},
   "source": [
    "**根据以上图表, 可对产品复购间隔情况进行以下划分:**\n",
    "- 复购间隔两年以上产品: 灶具, 烘干机, 蒸/烤箱; \n",
    "- 复购间隔两年至两年左右产品: 洗衣机, 冰箱; \n",
    "- 复购间隔波动较大产品: 洗碗机, 吸油烟机; "
   ]
  },
  {
   "cell_type": "markdown",
   "id": "bf021aad",
   "metadata": {},
   "source": [
    "### 2.3 客户复购情况及复购间隔分析结论"
   ]
  },
  {
   "cell_type": "markdown",
   "id": "45e14911",
   "metadata": {},
   "source": [
    "**根据以上分析可以得出, 从考虑复购的角度来说:** \n",
    "- 洗衣机和冰箱有较高的回购率且复购间隔相对稳定. 一定程度的说明客户对西门子这两类产品认可度较高; \n",
    "- 然而蒸/烤箱和烘干机, 复购率非常低的同时复购间隔较长. 短期来看收益相对较低;\n",
    "- 剩余的灶具, 吸油烟机复购率表现较为一般的同时复购间隔不稳定, 短期内收益较难估计;\n",
    "- 洗碗机在上一节分析中提到, 首购率低. 而于此同时复购率较高, 这说明对于目前客户来说属于反响良好低新颖产品, 其长期表现有待观察;"
   ]
  },
  {
   "cell_type": "markdown",
   "id": "4e037154",
   "metadata": {},
   "source": [
    "## 3 有待提升部分"
   ]
  },
  {
   "cell_type": "markdown",
   "id": "71dd065e",
   "metadata": {},
   "source": [
    "### 3.1 地区因素"
   ]
  },
  {
   "cell_type": "markdown",
   "id": "8b2fb5db",
   "metadata": {},
   "source": [
    "**未纳入地区因素原因:**\n",
    "\n",
    "主要是由于西门子顾客总数一共仅有291人, 而产品有七类. 于此同时, 顾客源来自八个省份. 若将省份考虑其中, 每一个子群顾客人数平均将小于10人, 在统计分析上很难继续进行下去. 除此之外, 对于同一个客户, 其地区常常是变化的. 该情况导致定义客户居住地, 来将地域的个性化特征考虑在内较为困难. 然而从尝试来判断, 该影响很有可能为切实存在的. "
   ]
  },
  {
   "cell_type": "markdown",
   "id": "ab67ae52",
   "metadata": {},
   "source": [
    "### 3.2 产品型号"
   ]
  },
  {
   "cell_type": "markdown",
   "id": "cfb34f53",
   "metadata": {},
   "source": [
    "主要原因与地区因素类似, 产品型号相较于地区因素更为繁杂, 当样本数量量级提升时务必将纳入分析. "
   ]
  }
 ],
 "metadata": {
  "kernelspec": {
   "display_name": "Python 3",
   "language": "python",
   "name": "python3"
  },
  "language_info": {
   "codemirror_mode": {
    "name": "ipython",
    "version": 3
   },
   "file_extension": ".py",
   "mimetype": "text/x-python",
   "name": "python",
   "nbconvert_exporter": "python",
   "pygments_lexer": "ipython3",
   "version": "3.9.12"
  }
 },
 "nbformat": 4,
 "nbformat_minor": 5
}
