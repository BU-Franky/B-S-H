{
 "cells": [
  {
   "cell_type": "markdown",
   "id": "dc38292a",
   "metadata": {},
   "source": [
    "**现需要制定优惠活动(满X元减Y元，整体优惠额度为5%)，优惠券设计为3个梯级，\n",
    "为了领券和转化效果最大化，请给出3个梯级的提案，并给出数据分析和方案设计的思路与过程**"
   ]
  },
  {
   "cell_type": "code",
   "execution_count": 165,
   "id": "96437ddd",
   "metadata": {},
   "outputs": [
    {
     "name": "stderr",
     "output_type": "stream",
     "text": [
      "<ipython-input-165-de1f1cc29804>:8: DeprecationWarning: Please use `pearsonr` from the `scipy.stats` namespace, the `scipy.stats.stats` namespace is deprecated.\n",
      "  from scipy.stats.stats import pearsonr\n"
     ]
    }
   ],
   "source": [
    "import pandas as pd\n",
    "pd.options.mode.chained_assignment = None\n",
    "import datetime\n",
    "import numpy as np\n",
    "import seaborn as sns\n",
    "import statistics\n",
    "import matplotlib.pyplot as plt\n",
    "from scipy.stats.stats import pearsonr  "
   ]
  },
  {
   "cell_type": "code",
   "execution_count": 35,
   "id": "6510ed60",
   "metadata": {},
   "outputs": [],
   "source": [
    "# read xls file \n",
    "xls = pd.ExcelFile(r\"数据分析数据源_脱敏_20230324.xls\")\n",
    "sheetxls = xls.parse(0)\n",
    "sheetxls_price = xls.parse(1)\n",
    "\n",
    "\n",
    "# join the dataframe by vib\n",
    "temp = sheetxls.join(sheetxls_price.set_index('vib'), on = 'vib')\n",
    "siemens_dat = temp.loc[sheetxls['brand'] == \"西门子\"]\n",
    "siemens_dat = siemens_dat.sort_values(by = ['user_id', 'installation_date'])\n",
    "siemens_dat = siemens_dat.drop('brand', axis = 1)\n",
    "\n",
    "\n",
    "# define a dictionary for following steps\n",
    "user_id = list(siemens_dat['user_id'].unique())\n",
    "siemens_user_dat = {}\n",
    "for user in user_id: \n",
    "    siemens_user_dat[user] = siemens_dat.loc[siemens_dat['user_id'] == user]\n",
    "del user\n",
    "\n",
    "\n",
    "products = siemens_dat['prod_group'].unique()\n",
    "return_purchase_dict = {}\n",
    "for prod in products: \n",
    "    temp_dict = {}\n",
    "    for user in siemens_user_dat.keys():\n",
    "        # extract purchase records for the product and customer\n",
    "        user_df = siemens_user_dat[user]\n",
    "        temp_df = user_df.loc[user_df['prod_group'] == prod]\n",
    "        if not temp_df.empty:\n",
    "            temp_df = temp_df[['user_id', 'vib', 'price', 'prod_group', 'province', 'installation_date']]\n",
    "            temp_dict[user] = temp_df\n",
    "    return_purchase_dict[prod] = temp_dict\n",
    "del temp_dict, user_df, temp_df\n",
    "\n",
    "\n",
    "for prod in return_purchase_dict.keys():\n",
    "    prod_dict = return_purchase_dict[prod]\n",
    "    for user in prod_dict.keys():\n",
    "        user_df = prod_dict[user]\n",
    "        time_stamp_list = list(user_df['installation_date'])\n",
    "        time_lag = []\n",
    "        for i in range(len(time_stamp_list)):\n",
    "            if i == 0:\n",
    "                time_lag.append(time_stamp_list[i] - time_stamp_list[0])\n",
    "            else:\n",
    "                time_lag.append(time_stamp_list[i] - time_stamp_list[i-1])\n",
    "        user_df['time_lag'] = time_lag\n",
    "        # filter < 360\n",
    "        time_1 = datetime.timedelta(days = 360)\n",
    "        time_2 = datetime.timedelta(days = 0)\n",
    "        prod_dict[user] = user_df.loc[(user_df['time_lag'] > time_1) | (user_df['time_lag'] == time_2)] \n",
    "        prod_dict[user]['time_lag'] = prod_dict[user]['time_lag'].dt.days\n",
    "    return_purchase_dict[prod] = prod_dict\n",
    "del prod_dict, user_df, time_stamp_list, time_lag"
   ]
  },
  {
   "cell_type": "code",
   "execution_count": 36,
   "id": "6a06879b",
   "metadata": {},
   "outputs": [
    {
     "data": {
      "text/plain": [
       "5999"
      ]
     },
     "execution_count": 36,
     "metadata": {},
     "output_type": "execute_result"
    }
   ],
   "source": [
    "return_purchase_dict['洗碗机'][0].iloc[0]['price']"
   ]
  },
  {
   "cell_type": "markdown",
   "id": "5bc9fd72",
   "metadata": {},
   "source": [
    "**优惠活动分配逻辑:**\n",
    "\n",
    "在task_A的分析中, 主要从顾客首购后关联购买, 以及同品类复购分析; 其中, 在首购分析中, 主要结论为洗衣机与冰箱的受关联购买的概率较高. 然而, 其中某些品类首购率较低, 分析结果相对不够稳定. 因此, 改优惠活动分配主要考虑从同品类复购角度出发:\n",
    "- 同类产品中, 购买单价更高的产品是否能带来更好的复购率; \n",
    "- 同类产品中, 购买单价更高的产品与复购周期是否有关; "
   ]
  },
  {
   "cell_type": "code",
   "execution_count": 173,
   "id": "ae4421b5",
   "metadata": {},
   "outputs": [],
   "source": [
    "col_names = np.array(['购买顾客', '购买总销售额', '复购顾客', '复购总量', '复购总销售额'])\n",
    "indexes = siemens_dat['prod_group'].unique()\n",
    "return_summary = pd.DataFrame(0, index=indexes, columns=col_names)\n",
    "del col_names\n",
    "\n",
    "for prod in return_purchase_dict.keys():\n",
    "    for user in return_purchase_dict[prod].keys():\n",
    "        user_df = return_purchase_dict[prod][user]\n",
    "        return_summary.loc[prod]['购买顾客'] += 1\n",
    "        return_summary.loc[prod]['购买总销售额'] += user_df.iloc[0]['price']\n",
    "        rows = user_df.shape[0]\n",
    "        if rows > 1:\n",
    "            return_summary.loc[prod]['复购顾客'] += 1\n",
    "            for i in range(1, rows):\n",
    "                return_summary.loc[prod]['复购总销售额'] += user_df.iloc[i]['price']\n",
    "        return_summary.loc[prod]['复购总量'] += (rows - 1)\n",
    "        \n",
    "del user_df, rows\n",
    "return_summary['复购率'] = round(return_summary['复购顾客']/return_summary['购买顾客'], 3)\n",
    "return_summary['复购率'] = (100.*return_summary['复购率']).round(1).astype(str) + '%'\n",
    "return_summary['平均复购量'] = round(return_summary['复购总量']/return_summary['复购顾客'], 2)\n",
    "return_summary['购买单价'] = round(return_summary['购买总销售额']/return_summary['购买顾客'], 2)\n",
    "return_summary['复购单价'] = round(return_summary['复购总销售额']/return_summary['复购总量'], 2)\n",
    "return_summary['单价增幅'] = round(return_summary['复购单价'] - return_summary['购买单价'], 2)"
   ]
  },
  {
   "cell_type": "code",
   "execution_count": 178,
   "id": "56ca713e",
   "metadata": {},
   "outputs": [
    {
     "data": {
      "text/html": [
       "<div>\n",
       "<style scoped>\n",
       "    .dataframe tbody tr th:only-of-type {\n",
       "        vertical-align: middle;\n",
       "    }\n",
       "\n",
       "    .dataframe tbody tr th {\n",
       "        vertical-align: top;\n",
       "    }\n",
       "\n",
       "    .dataframe thead th {\n",
       "        text-align: right;\n",
       "    }\n",
       "</style>\n",
       "<table border=\"1\" class=\"dataframe\">\n",
       "  <thead>\n",
       "    <tr style=\"text-align: right;\">\n",
       "      <th></th>\n",
       "      <th>购买顾客</th>\n",
       "      <th>购买总销售额</th>\n",
       "      <th>复购顾客</th>\n",
       "      <th>复购总量</th>\n",
       "      <th>复购总销售额</th>\n",
       "      <th>复购率</th>\n",
       "      <th>平均复购量</th>\n",
       "      <th>购买单价</th>\n",
       "      <th>复购单价</th>\n",
       "      <th>单价增幅</th>\n",
       "    </tr>\n",
       "  </thead>\n",
       "  <tbody>\n",
       "    <tr>\n",
       "      <th>蒸/烤箱</th>\n",
       "      <td>66</td>\n",
       "      <td>534219</td>\n",
       "      <td>9</td>\n",
       "      <td>9</td>\n",
       "      <td>56247</td>\n",
       "      <td>13.6%</td>\n",
       "      <td>1.00</td>\n",
       "      <td>8094.23</td>\n",
       "      <td>6249.67</td>\n",
       "      <td>-1844.56</td>\n",
       "    </tr>\n",
       "    <tr>\n",
       "      <th>烘干机</th>\n",
       "      <td>47</td>\n",
       "      <td>421853</td>\n",
       "      <td>7</td>\n",
       "      <td>8</td>\n",
       "      <td>68492</td>\n",
       "      <td>14.9%</td>\n",
       "      <td>1.14</td>\n",
       "      <td>8975.60</td>\n",
       "      <td>8561.50</td>\n",
       "      <td>-414.10</td>\n",
       "    </tr>\n",
       "    <tr>\n",
       "      <th>灶具</th>\n",
       "      <td>120</td>\n",
       "      <td>344088</td>\n",
       "      <td>26</td>\n",
       "      <td>27</td>\n",
       "      <td>102301</td>\n",
       "      <td>21.7%</td>\n",
       "      <td>1.04</td>\n",
       "      <td>2867.40</td>\n",
       "      <td>3788.93</td>\n",
       "      <td>921.53</td>\n",
       "    </tr>\n",
       "    <tr>\n",
       "      <th>吸油烟机</th>\n",
       "      <td>103</td>\n",
       "      <td>511860</td>\n",
       "      <td>25</td>\n",
       "      <td>28</td>\n",
       "      <td>145793</td>\n",
       "      <td>24.3%</td>\n",
       "      <td>1.12</td>\n",
       "      <td>4969.51</td>\n",
       "      <td>5206.89</td>\n",
       "      <td>237.38</td>\n",
       "    </tr>\n",
       "    <tr>\n",
       "      <th>洗碗机</th>\n",
       "      <td>159</td>\n",
       "      <td>932250</td>\n",
       "      <td>65</td>\n",
       "      <td>83</td>\n",
       "      <td>481596</td>\n",
       "      <td>40.9%</td>\n",
       "      <td>1.28</td>\n",
       "      <td>5863.21</td>\n",
       "      <td>5802.36</td>\n",
       "      <td>-60.85</td>\n",
       "    </tr>\n",
       "    <tr>\n",
       "      <th>冰箱</th>\n",
       "      <td>220</td>\n",
       "      <td>2089942</td>\n",
       "      <td>136</td>\n",
       "      <td>204</td>\n",
       "      <td>1960467</td>\n",
       "      <td>61.8%</td>\n",
       "      <td>1.50</td>\n",
       "      <td>9499.74</td>\n",
       "      <td>9610.13</td>\n",
       "      <td>110.39</td>\n",
       "    </tr>\n",
       "    <tr>\n",
       "      <th>洗衣机</th>\n",
       "      <td>251</td>\n",
       "      <td>1239506</td>\n",
       "      <td>162</td>\n",
       "      <td>245</td>\n",
       "      <td>1242011</td>\n",
       "      <td>64.5%</td>\n",
       "      <td>1.51</td>\n",
       "      <td>4938.27</td>\n",
       "      <td>5069.43</td>\n",
       "      <td>131.16</td>\n",
       "    </tr>\n",
       "  </tbody>\n",
       "</table>\n",
       "</div>"
      ],
      "text/plain": [
       "      购买顾客   购买总销售额  复购顾客  复购总量   复购总销售额    复购率  平均复购量     购买单价     复购单价  \\\n",
       "蒸/烤箱    66   534219     9     9    56247  13.6%   1.00  8094.23  6249.67   \n",
       "烘干机     47   421853     7     8    68492  14.9%   1.14  8975.60  8561.50   \n",
       "灶具     120   344088    26    27   102301  21.7%   1.04  2867.40  3788.93   \n",
       "吸油烟机   103   511860    25    28   145793  24.3%   1.12  4969.51  5206.89   \n",
       "洗碗机    159   932250    65    83   481596  40.9%   1.28  5863.21  5802.36   \n",
       "冰箱     220  2089942   136   204  1960467  61.8%   1.50  9499.74  9610.13   \n",
       "洗衣机    251  1239506   162   245  1242011  64.5%   1.51  4938.27  5069.43   \n",
       "\n",
       "         单价增幅  \n",
       "蒸/烤箱 -1844.56  \n",
       "烘干机   -414.10  \n",
       "灶具     921.53  \n",
       "吸油烟机   237.38  \n",
       "洗碗机    -60.85  \n",
       "冰箱     110.39  \n",
       "洗衣机    131.16  "
      ]
     },
     "execution_count": 178,
     "metadata": {},
     "output_type": "execute_result"
    }
   ],
   "source": [
    "return_summary.sort_values(by = '复购率')"
   ]
  },
  {
   "cell_type": "code",
   "execution_count": 149,
   "id": "726bb7b5",
   "metadata": {},
   "outputs": [],
   "source": [
    "# ['洗碗机' '洗衣机' '灶具' '冰箱' '蒸/烤箱' '烘干机' '吸油烟机']\n",
    "# 分析洗碗机特征\n",
    "def price_ratio(prod):\n",
    "    prod_dict = return_purchase_dict[prod]\n",
    "    prod_info = {}\n",
    "    for usr in prod_dict.keys():\n",
    "        rows = prod_dict[usr].shape[0]\n",
    "        price = prod_dict[usr].iloc[0]['price']\n",
    "        if price in list(prod_info.keys()):\n",
    "            if rows == 1: \n",
    "                prod_info[price] = pd.concat([prod_info[price], prod_dict[usr]])\n",
    "            else:\n",
    "                prod_info[price] = pd.concat([prod_info[price], prod_dict[usr].iloc[[0, 1]]])\n",
    "        else:\n",
    "            if rows == 1: \n",
    "                prod_info[price] = prod_dict[usr]\n",
    "            else:\n",
    "                prod_info[price] = prod_dict[usr].iloc[[0, 1]]\n",
    "    indexes = prod_info.keys()\n",
    "    col_names = np.array(['购买客户', '复购客户'])\n",
    "    prod_summary = pd.DataFrame(0, index=indexes, columns=col_names)\n",
    "    for price in indexes:\n",
    "        col = prod_info[price]['time_lag']\n",
    "        prod_summary.loc[price]['购买客户'] = (col == 0).sum()\n",
    "        prod_summary.loc[price]['复购客户'] = (col != 0).sum()\n",
    "    prod_summary['复购率'] = round(prod_summary['复购客户']/prod_summary['购买客户'], 2)\n",
    "    prod_summary = prod_summary.sort_index()\n",
    "    return prod_info, prod_summary"
   ]
  },
  {
   "cell_type": "code",
   "execution_count": 172,
   "id": "54fd4d9d",
   "metadata": {},
   "outputs": [
    {
     "name": "stdout",
     "output_type": "stream",
     "text": [
      "洗碗机: PearsonRResult(statistic=-0.19426606030289614, pvalue=0.35210756451943626)\n",
      "洗衣机: PearsonRResult(statistic=-0.09784046043679896, pvalue=0.5325109286728456)\n",
      "灶具: PearsonRResult(statistic=0.5150879090886569, pvalue=0.01189623574261907)\n",
      "冰箱: PearsonRResult(statistic=0.1060568307472232, pvalue=0.4731015075955131)\n",
      "蒸/烤箱: PearsonRResult(statistic=-0.09867829571594078, pvalue=0.6621880738096882)\n",
      "烘干机: PearsonRResult(statistic=0.5984425576743427, pvalue=0.11703960897956721)\n",
      "吸油烟机: PearsonRResult(statistic=0.050737810027149055, pvalue=0.7976391579259704)\n"
     ]
    }
   ],
   "source": [
    "prod_info, prod_summary = price_ratio('洗碗机')\n",
    "print('洗碗机:', pearsonr(prod_summary.index, prod_summary['复购率']))\n",
    "prod_info, prod_summary = price_ratio('洗衣机')\n",
    "print('洗衣机:', pearsonr(prod_summary.index, prod_summary['复购率']))\n",
    "prod_info, prod_summary = price_ratio('灶具')\n",
    "print('灶具:', pearsonr(prod_summary.index, prod_summary['复购率']))\n",
    "prod_info, prod_summary = price_ratio('冰箱')\n",
    "print('冰箱:', pearsonr(prod_summary.index, prod_summary['复购率']))\n",
    "prod_info, prod_summary = price_ratio('蒸/烤箱')\n",
    "print('蒸/烤箱:', pearsonr(prod_summary.index, prod_summary['复购率']))\n",
    "prod_info, prod_summary = price_ratio('烘干机')\n",
    "print('烘干机:', pearsonr(prod_summary.index, prod_summary['复购率']))\n",
    "prod_info, prod_summary = price_ratio('吸油烟机')\n",
    "print('吸油烟机:', pearsonr(prod_summary.index, prod_summary['复购率']))"
   ]
  },
  {
   "cell_type": "code",
   "execution_count": 180,
   "id": "de03cf6f",
   "metadata": {},
   "outputs": [
    {
     "data": {
      "text/plain": [
       "0.050737810027149055"
      ]
     },
     "execution_count": 180,
     "metadata": {},
     "output_type": "execute_result"
    }
   ],
   "source": [
    "pearsonr(prod_summary.index, prod_summary['复购率'])[0]"
   ]
  },
  {
   "cell_type": "markdown",
   "id": "c0d01d6f",
   "metadata": {},
   "source": [
    "**Pearson相关系数结论:**\n",
    "- 灶具, 烘干机购买单价与后续复购率成强正比关系\n",
    "- 洗碗机购买单价与后续复购率成弱负比关系\n",
    "- 冰箱, 洗衣机, 蒸/烤箱, 吸油烟机的购买单价与复购率没有太大关系"
   ]
  },
  {
   "cell_type": "markdown",
   "id": "ac18a700",
   "metadata": {},
   "source": [
    "### 综合结论"
   ]
  },
  {
   "cell_type": "markdown",
   "id": "c02bb423",
   "metadata": {},
   "source": [
    "**优惠梯度:**\n",
    "- 第一梯级(优惠力度大): 灶具, 烘干机 (整体回购率低, 然而当因优惠活动而购买单价更高的产品后, 回购率显著提升; 给予该类产品大幅优惠, 见效明显)\n",
    "- 第二梯级(优惠力度中等): 冰箱, 洗衣机, 洗碗机 (虽然购买单价的提升对回购率没有显著变化, 然而其本身的回购率相对很高; 中等幅度优惠也有利于更多顾客入手产品, 后续仍有稳定见效)\n",
    "- 第三梯级(优惠力度较小): 蒸/烤箱, 吸油烟机 (相对优势较小)"
   ]
  }
 ],
 "metadata": {
  "kernelspec": {
   "display_name": "Python 3",
   "language": "python",
   "name": "python3"
  },
  "language_info": {
   "codemirror_mode": {
    "name": "ipython",
    "version": 3
   },
   "file_extension": ".py",
   "mimetype": "text/x-python",
   "name": "python",
   "nbconvert_exporter": "python",
   "pygments_lexer": "ipython3",
   "version": "3.9.12"
  }
 },
 "nbformat": 4,
 "nbformat_minor": 5
}
